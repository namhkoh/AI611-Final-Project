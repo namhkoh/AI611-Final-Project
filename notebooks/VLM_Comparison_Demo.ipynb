{
 "cells": [
  {
   "cell_type": "markdown",
   "metadata": {},
   "source": [
    "# 🔥 VLM Comparison in DDPO: Beyond LLaVA\n",
    "\n",
    "This notebook demonstrates a comprehensive comparison of different Vision-Language Models (VLMs) in the context of DDPO (Denoising Diffusion Policy Optimization).\n",
    "\n",
    "## 🎯 What you'll learn:\n",
    "- **Multi-VLM Support**: Compare LLaVA, BLIP-2, InstructBLIP, and CLIP\n",
    "- **Robustness Analysis**: Test against typographic attacks, adversarial patches, and corruption\n",
    "- **Efficiency Benchmarking**: Memory usage, inference speed, and throughput analysis\n",
    "- **DDPO Integration**: How to use different VLMs as reward functions\n",
    "\n",
    "## 🚀 Key Features:\n",
    "- **Automatic model selection** based on available GPU memory\n",
    "- **Interactive visualizations** of model comparisons\n",
    "- **Real-time robustness testing** with adversarial examples\n",
    "- **Performance benchmarking** across different metrics"
   ]
  },
  {
   "cell_type": "code",
   "execution_count": 1,
   "metadata": {},
   "outputs": [
    {
     "name": "stdout",
     "output_type": "stream",
     "text": [
      "🔥 VLM Comparison Demo - Setup Complete!\n",
      "PyTorch version: 2.1.0\n",
      "CUDA available: True\n",
      "GPU memory: 25.8 GB\n"
     ]
    }
   ],
   "source": [
    "# =============================================================================\n",
    "# CELL 1: Environment Setup and Imports\n",
    "# =============================================================================\n",
    "\n",
    "# Standard library imports\n",
    "import os\n",
    "import sys\n",
    "import time\n",
    "import json\n",
    "import warnings\n",
    "from pathlib import Path\n",
    "\n",
    "# Scientific computing\n",
    "import torch\n",
    "import numpy as np\n",
    "import pandas as pd\n",
    "\n",
    "# Image processing and visualization\n",
    "from PIL import Image, ImageDraw, ImageFont\n",
    "import matplotlib.pyplot as plt\n",
    "import seaborn as sns\n",
    "\n",
    "# Suppress warnings for cleaner output\n",
    "warnings.filterwarnings('ignore')\n",
    "\n",
    "# Add parent directory to path for DDPO imports\n",
    "sys.path.append(str(Path.cwd().parent))\n",
    "\n",
    "# DDPO imports\n",
    "from ddpo_pytorch.vlm_comparison import VLMComparator\n",
    "from ddpo_pytorch import rewards\n",
    "import config.vlm_comparison as vlm_config\n",
    "\n",
    "# Set plotting style\n",
    "plt.style.use('seaborn-v0_8')\n",
    "sns.set_palette(\"husl\")\n",
    "\n",
    "# Environment validation\n",
    "print(\"🔥 VLM Comparison Demo - Setup Complete!\")\n",
    "print(f\"PyTorch version: {torch.__version__}\")\n",
    "print(f\"CUDA available: {torch.cuda.is_available()}\")\n",
    "if torch.cuda.is_available():\n",
    "    print(f\"GPU memory: {torch.cuda.get_device_properties(0).total_memory / 1e9:.1f} GB\")"
   ]
  },
  {
   "cell_type": "code",
   "execution_count": 2,
   "metadata": {},
   "outputs": [
    {
     "name": "stdout",
     "output_type": "stream",
     "text": [
      "✅ Test image creation functions defined\n"
     ]
    }
   ],
   "source": [
    "# =============================================================================\n",
    "# CELL 2: Test Image Creation Functions\n",
    "# =============================================================================\n",
    "\n",
    "def create_test_images():\n",
    "    \"\"\"Create a variety of test images with emojis and text\"\"\"\n",
    "    def create_simple_image(text, bg_color, text_color='white', size=(256, 256)):\n",
    "        img = Image.new('RGB', size, color=bg_color)\n",
    "        draw = ImageDraw.Draw(img)\n",
    "        \n",
    "        # Try to load a font, fall back to default\n",
    "        try:\n",
    "            font = ImageFont.load_default()\n",
    "        except:\n",
    "            font = None\n",
    "        \n",
    "        # Center the text\n",
    "        if font:\n",
    "            bbox = draw.textbbox((0, 0), text, font=font)\n",
    "            text_width = bbox[2] - bbox[0]\n",
    "            text_height = bbox[3] - bbox[1]\n",
    "        else:\n",
    "            text_width, text_height = len(text) * 10, 20\n",
    "        \n",
    "        x = (size[0] - text_width) // 2\n",
    "        y = (size[1] - text_height) // 2\n",
    "        \n",
    "        draw.text((x, y), text, fill=text_color, font=font)\n",
    "        return img\n",
    "    \n",
    "    test_images = [\n",
    "        (create_simple_image(\"🐱 CAT\", \"orange\"), \"a cat sitting peacefully\"),\n",
    "        (create_simple_image(\"🐕 DOG\", \"brown\"), \"a friendly dog\"),\n",
    "        (create_simple_image(\"🐦 BIRD\", \"skyblue\"), \"a bird flying\"),\n",
    "        (create_simple_image(\"🐠 FISH\", \"cyan\"), \"a fish swimming\"),\n",
    "        (create_simple_image(\"🌅 SUNSET\", \"purple\"), \"a beautiful sunset\")\n",
    "    ]\n",
    "    \n",
    "    return test_images\n",
    "\n",
    "print(\"✅ Test image creation functions defined\")"
   ]
  },
  {
   "cell_type": "code",
   "execution_count": 3,
   "metadata": {},
   "outputs": [
    {
     "name": "stdout",
     "output_type": "stream",
     "text": [
      "✅ Created 5 test images\n"
     ]
    }
   ],
   "source": [
    "# =============================================================================\n",
    "# CELL 3: Generate Test Dataset\n",
    "# =============================================================================\n",
    "\n",
    "# Create test data\n",
    "test_data = create_test_images()\n",
    "print(f\"✅ Created {len(test_data)} test images\")"
   ]
  },
  {
   "cell_type": "code",
   "execution_count": 4,
   "metadata": {},
   "outputs": [
    {
     "data": {
      "image/png": "[encoded data removed]",
      "text/plain": [
       "<Figure size 1500x300 with 5 Axes>"
      ]
     },
     "metadata": {},
     "output_type": "display_data"
    }
   ],
   "source": [
    "# =============================================================================\n",
    "# CELL 4: Display Test Images\n",
    "# =============================================================================\n",
    "\n",
    "# Display test images\n",
    "fig, axes = plt.subplots(1, len(test_data), figsize=(15, 3))\n",
    "for i, (img, prompt) in enumerate(test_data):\n",
    "    axes[i].imshow(img)\n",
    "    axes[i].set_title(prompt, fontsize=10)\n",
    "    axes[i].axis('off')\n",
    "plt.suptitle(\"Test Images for VLM Comparison\", fontsize=14, fontweight='bold')\n",
    "plt.tight_layout()\n",
    "plt.show()"
   ]
  },
  {
   "cell_type": "code",
   "execution_count": 5,
   "metadata": {},
   "outputs": [
    {
     "name": "stdout",
     "output_type": "stream",
     "text": [
      "📊 Available GPU Memory: 25.8 GB\n",
      "⚡ Mid-range GPU detected! Testing efficient models.\n",
      "Selected models: ['clip', 'blip2', 'instructblip']\n"
     ]
    }
   ],
   "source": [
    "# =============================================================================\n",
    "# CELL 5: Model Selection Logic\n",
    "# =============================================================================\n",
    "\n",
    "def auto_select_models():\n",
    "    \"\"\"Automatically select VLMs based on available GPU memory\"\"\"\n",
    "    if not torch.cuda.is_available():\n",
    "        print(\"⚠️  No CUDA GPU detected. Using CPU-friendly models only.\")\n",
    "        return [\"clip\"]\n",
    "    \n",
    "    total_memory = torch.cuda.get_device_properties(0).total_memory / 1e9\n",
    "    print(f\"📊 Available GPU Memory: {total_memory:.1f} GB\")\n",
    "    \n",
    "    if total_memory >= 26:\n",
    "        selected = [\"clip\", \"blip2\", \"instructblip\", \"llava-1.5\"]\n",
    "        print(\"🚀 High-end GPU detected! Testing all models.\")\n",
    "    elif total_memory >= 15:\n",
    "        selected = [\"clip\", \"blip2\", \"instructblip\"]\n",
    "        print(\"⚡ Mid-range GPU detected! Testing efficient models.\")\n",
    "    elif total_memory >= 8:\n",
    "        selected = [\"clip\", \"blip2\"]\n",
    "        print(\"💡 Standard GPU detected! Testing CLIP and BLIP-2.\")\n",
    "    else:\n",
    "        selected = [\"clip\"]\n",
    "        print(\"🔧 Low memory GPU detected! Testing CLIP only.\")\n",
    "    \n",
    "    return selected\n",
    "\n",
    "# Select models for this session\n",
    "MODELS_TO_TEST = auto_select_models()\n",
    "print(f\"Selected models: {MODELS_TO_TEST}\")"
   ]
  },
  {
   "cell_type": "code",
   "execution_count": 6,
   "metadata": {},
   "outputs": [
    {
     "name": "stdout",
     "output_type": "stream",
     "text": [
      "✅ VLMComparator initialized successfully\n"
     ]
    }
   ],
   "source": [
    "# =============================================================================\n",
    "# CELL 6: Initialize VLM Comparator\n",
    "# =============================================================================\n",
    "\n",
    "# Initialize the VLM comparator\n",
    "try:\n",
    "    comparator = VLMComparator()\n",
    "    print(\"✅ VLMComparator initialized successfully\")\n",
    "except Exception as e:\n",
    "    print(f\"❌ Failed to initialize VLMComparator: {e}\")\n",
    "    comparator = None"
   ]
  },
  {
   "cell_type": "code",
   "execution_count": 7,
   "metadata": {},
   "outputs": [
    {
     "name": "stderr",
     "output_type": "stream",
     "text": [
      "Using a slow image processor as `use_fast` is unset and a slow processor was saved with this model. `use_fast=True` will be the default behavior in v4.52, even if the model was saved with a slow processor. This will result in minor differences in outputs. You'll still be able to use a slow processor with `use_fast=False`.\n"
     ]
    },
    {
     "name": "stdout",
     "output_type": "stream",
     "text": [
      "🔄 Loading selected models...\n",
      "  Loading clip...\n",
      "  ✅ clip loaded successfully\n",
      "  Loading blip2...\n"
     ]
    },
    {
     "name": "stderr",
     "output_type": "stream",
     "text": [
      "The tokenizer class you load from this checkpoint is not the same type as the class this function is called from. It may result in unexpected tokenization. \n",
      "The tokenizer class you load from this checkpoint is 'GPT2Tokenizer'. \n",
      "The class this function is called from is 'BertTokenizerFast'.\n",
      "Failed to load blip2: 'NoneType' object has no attribute '__getstate__'\n"
     ]
    },
    {
     "name": "stdout",
     "output_type": "stream",
     "text": [
      "  ❌ Failed to load blip2: 'NoneType' object has no attribute '__getstate__'...\n",
      "  Loading instructblip...\n"
     ]
    },
    {
     "name": "stderr",
     "output_type": "stream",
     "text": [
      "The model weights are not tied. Please use the `tie_weights` method before using the `infer_auto_device` function.\n"
     ]
    },
    {
     "data": {
      "application/vnd.jupyter.widget-view+json": {
       "model_id": "0279f2e58c9b4400b481663769988125",
       "version_major": 2,
       "version_minor": 0
      },
      "text/plain": [
       "Loading checkpoint shards:   0%|          | 0/4 [00:00<?, ?it/s]"
      ]
     },
     "metadata": {},
     "output_type": "display_data"
    },
    {
     "name": "stdout",
     "output_type": "stream",
     "text": [
      "  ✅ instructblip loaded successfully\n",
      "\n",
      "🎉 Successfully loaded 2 models: ['clip', 'instructblip']\n"
     ]
    }
   ],
   "source": [
    "# =============================================================================\n",
    "# CELL 7: Load Selected Models\n",
    "# =============================================================================\n",
    "\n",
    "loaded_models = []\n",
    "model_info = {}\n",
    "\n",
    "if comparator:\n",
    "    print(\"🔄 Loading selected models...\")\n",
    "    for model_name in MODELS_TO_TEST:\n",
    "        try:\n",
    "            print(f\"  Loading {model_name}...\")\n",
    "            comparator.load_model(model_name)\n",
    "            loaded_models.append(model_name)\n",
    "            print(f\"  ✅ {model_name} loaded successfully\")\n",
    "        except Exception as e:\n",
    "            print(f\"  ❌ Failed to load {model_name}: {str(e)[:100]}...\")\n",
    "    \n",
    "    # Get model information\n",
    "    if loaded_models:\n",
    "        model_info = comparator.get_model_comparison()\n",
    "        print(f\"\\n🎉 Successfully loaded {len(loaded_models)} models: {loaded_models}\")\n",
    "    else:\n",
    "        print(\"⚠️ No models were loaded successfully\")\n",
    "else:\n",
    "    print(\"⚠️ Cannot load models - comparator not initialized\")"
   ]
  },
  {
   "cell_type": "code",
   "execution_count": 8,
   "metadata": {},
   "outputs": [
    {
     "name": "stdout",
     "output_type": "stream",
     "text": [
      "📊 VLM Model Comparison Table\n",
      "================================================================================\n",
      "\n",
      "====================================================================================================\n",
      "VLM COMPARISON TABLE\n",
      "====================================================================================================\n",
      "\n",
      "📋 LLAVA-1.5\n",
      "--------------------------------------------------\n",
      "Parameters: 13B\n",
      "Memory Usage: 26 GB\n",
      "\n",
      "✅ Advantages:\n",
      "  • Strong instruction following\n",
      "  • Good at detailed image descriptions\n",
      "  • Handles complex reasoning tasks\n",
      "  • Large training dataset\n",
      "\n",
      "❌ Disadvantages:\n",
      "  • Large memory footprint (~13B params)\n",
      "  • Susceptible to typographic attacks\n",
      "  • Slower inference time\n",
      "  • May hallucinate details\n",
      "\n",
      "🛡️ Robustness Analysis:\n",
      "  • Typographic Attack: 🔴 vulnerable\n",
      "  • Adversarial Patches: 🟡 moderate\n",
      "  • Image Corruption: 🟢 good\n",
      "  • Prompt Injection: 🔴 vulnerable\n",
      "\n",
      "📋 BLIP2\n",
      "--------------------------------------------------\n",
      "Parameters: 7B\n",
      "Memory Usage: 15 GB\n",
      "\n",
      "✅ Advantages:\n",
      "  • Efficient architecture\n",
      "  • Good image captioning\n",
      "  • Faster inference than LLaVA\n",
      "  • Better OOD generalization\n",
      "\n",
      "❌ Disadvantages:\n",
      "  • Limited instruction following\n",
      "  • Less detailed responses\n",
      "  • Weaker reasoning capabilities\n",
      "  • Limited conversational ability\n",
      "\n",
      "🛡️ Robustness Analysis:\n",
      "  • Typographic Attack: 🟡 moderate\n",
      "  • Adversarial Patches: 🟢 good\n",
      "  • Image Corruption: 🟢 very good\n",
      "  • Prompt Injection: 🟢 good\n",
      "\n",
      "📋 INSTRUCTBLIP\n",
      "--------------------------------------------------\n",
      "Parameters: 7B\n",
      "Memory Usage: 12 GB\n",
      "\n",
      "✅ Advantages:\n",
      "  • Good instruction following\n",
      "  • Balanced performance/efficiency\n",
      "  • Strong on VQA tasks\n",
      "  • Better robustness than LLaVA\n",
      "\n",
      "❌ Disadvantages:\n",
      "  • Less creative responses\n",
      "  • Weaker on complex reasoning\n",
      "  • Limited context length\n",
      "  • Less detailed descriptions\n",
      "\n",
      "🛡️ Robustness Analysis:\n",
      "  • Typographic Attack: 🟢 good\n",
      "  • Adversarial Patches: 🟢 good\n",
      "  • Image Corruption: 🟢 very good\n",
      "  • Prompt Injection: 🟢 good\n",
      "\n",
      "📋 CLIP\n",
      "--------------------------------------------------\n",
      "Parameters: 400M\n",
      "Memory Usage: 2 GB\n",
      "\n",
      "✅ Advantages:\n",
      "  • Very efficient\n",
      "  • Good image-text alignment\n",
      "  • Fast inference\n",
      "  • Strong zero-shot capabilities\n",
      "\n",
      "❌ Disadvantages:\n",
      "  • No text generation\n",
      "  • Limited to similarity scoring\n",
      "  • Weak on complex scenes\n",
      "  • Poor fine-grained understanding\n",
      "\n",
      "🛡️ Robustness Analysis:\n",
      "  • Typographic Attack: 🟢 very good\n",
      "  • Adversarial Patches: 🟡 moderate\n",
      "  • Image Corruption: 🟢 good\n",
      "  • Prompt Injection: ⚪ not applicable\n",
      "\n",
      "====================================================================================================\n",
      "✅ Basic comparison table displayed\n"
     ]
    }
   ],
   "source": [
    "# =============================================================================\n",
    "# CELL 8: Display Basic Model Comparison\n",
    "# =============================================================================\n",
    "\n",
    "if comparator and loaded_models:\n",
    "    print(\"📊 VLM Model Comparison Table\")\n",
    "    print(\"=\" * 80)\n",
    "    comparator.print_comparison_table()\n",
    "    print(\"✅ Basic comparison table displayed\")\n",
    "else:\n",
    "    print(\"⚠️ Cannot display comparison table - models not loaded\")"
   ]
  },
  {
   "cell_type": "code",
   "execution_count": 9,
   "metadata": {},
   "outputs": [
    {
     "name": "stdout",
     "output_type": "stream",
     "text": [
      "📈 Detailed Model Specifications:\n",
      "       Model  Memory (GB) Parameters                                               Key Strengths           Best Use Case\n",
      "        CLIP            2       400M                   Very efficient, Good image-text alignment Similarity & Efficiency\n",
      "INSTRUCTBLIP           12         7B Good instruction following, Balanced performance/efficiency   Instruction Following\n"
     ]
    }
   ],
   "source": [
    "# =============================================================================\n",
    "# CELL 9: Detailed Model Specifications\n",
    "# =============================================================================\n",
    "\n",
    "if model_info and loaded_models:\n",
    "    comparison_data = []\n",
    "    \n",
    "    # Use case mapping\n",
    "    use_case_map = {\n",
    "        'clip': 'Similarity & Efficiency',\n",
    "        'blip2': 'Balanced Performance',\n",
    "        'instructblip': 'Instruction Following',\n",
    "        'llava-1.5': 'Detailed Analysis'\n",
    "    }\n",
    "    \n",
    "    for model_name in loaded_models:\n",
    "        if model_name in model_info:\n",
    "            info = model_info[model_name]\n",
    "            \n",
    "            # Extract key strengths (first 2 advantages)\n",
    "            key_strengths = \", \".join(info['advantages'][:2])\n",
    "            \n",
    "            comparison_data.append({\n",
    "                'Model': model_name.upper(),\n",
    "                'Memory (GB)': info['memory_gb'],\n",
    "                'Parameters': info['params'],\n",
    "                'Key Strengths': key_strengths,\n",
    "                'Best Use Case': use_case_map.get(model_name, 'General Purpose')\n",
    "            })\n",
    "    \n",
    "    if comparison_data:\n",
    "        df = pd.DataFrame(comparison_data)\n",
    "        print(\"📈 Detailed Model Specifications:\")\n",
    "        print(df.to_string(index=False))\n",
    "    else:\n",
    "        print(\"⚠️ No model data available for detailed comparison\")\n",
    "else:\n",
    "    print(\"⚠️ Cannot display detailed specifications - model info not available\")"
   ]
  },
  {
   "cell_type": "code",
   "execution_count": 10,
   "metadata": {},
   "outputs": [
    {
     "name": "stdout",
     "output_type": "stream",
     "text": [
      "📊 Quick Stats:\n",
      "  Models loaded: 2\n",
      "  Total memory required: 14 GB\n",
      "  Memory range: 2 - 12 GB\n",
      "  Average memory per model: 7.0 GB\n"
     ]
    }
   ],
   "source": [
    "# =============================================================================\n",
    "# CELL 10: Model Summary Statistics\n",
    "# =============================================================================\n",
    "\n",
    "if model_info and loaded_models:\n",
    "    print(\"📊 Quick Stats:\")\n",
    "    print(f\"  Models loaded: {len(loaded_models)}\")\n",
    "    \n",
    "    # Calculate memory statistics\n",
    "    loaded_model_info = {m: model_info[m] for m in loaded_models if m in model_info}\n",
    "    if loaded_model_info:\n",
    "        total_memory = sum(info['memory_gb'] for info in loaded_model_info.values())\n",
    "        memory_values = [info['memory_gb'] for info in loaded_model_info.values()]\n",
    "        \n",
    "        print(f\"  Total memory required: {total_memory} GB\")\n",
    "        print(f\"  Memory range: {min(memory_values)} - {max(memory_values)} GB\")\n",
    "        print(f\"  Average memory per model: {total_memory/len(loaded_model_info):.1f} GB\")\n",
    "    else:\n",
    "        print(\"  No memory statistics available\")\n",
    "else:\n",
    "    print(\"⚠️ Cannot display statistics - model info not available\")"
   ]
  },
  {
   "cell_type": "code",
   "execution_count": 11,
   "metadata": {},
   "outputs": [
    {
     "name": "stdout",
     "output_type": "stream",
     "text": [
      "🧪 Testing Basic VLM Functionality\n",
      "==================================================\n",
      "\n",
      "🔍 Testing CLIP:\n",
      "  Image 1: Similarity score: 0.2006...\n",
      "  Image 2: Similarity score: 0.2079...\n",
      "  Image 3: Similarity score: 0.2512...\n",
      "\n",
      "🔍 Testing INSTRUCTBLIP:\n",
      "  Image 1: What do you see in this image? The image features a bright orange background wit...\n",
      "  Image 2: What do you see in this image? The image features a red background with a white ...\n",
      "  Image 3: What do you see in this image? The image features a blue background with a white...\n",
      "\n",
      "✅ Basic functionality test completed for 2 models\n"
     ]
    }
   ],
   "source": [
    "# =============================================================================\n",
    "# CELL 11: Basic Functionality Test\n",
    "# =============================================================================\n",
    "\n",
    "def test_basic_functionality(models, test_data):\n",
    "    \"\"\"Test basic response generation for each model\"\"\"\n",
    "    results = {}\n",
    "    \n",
    "    print(\"🧪 Testing Basic VLM Functionality\")\n",
    "    print(\"=\" * 50)\n",
    "    \n",
    "    for model_name in models:\n",
    "        if not comparator or model_name not in comparator.models:\n",
    "            print(f\"⚠️ {model_name} not available, skipping...\")\n",
    "            continue\n",
    "            \n",
    "        print(f\"\\n🔍 Testing {model_name.upper()}:\")\n",
    "        model_results = []\n",
    "        \n",
    "        for i, (image, prompt) in enumerate(test_data[:3]):  # Test first 3 images\n",
    "            try:\n",
    "                if model_name == \"clip\":\n",
    "                    # CLIP works differently - similarity scoring\n",
    "                    response = comparator.generate_response(model_name, image, prompt)\n",
    "                else:\n",
    "                    # Other models generate text descriptions\n",
    "                    response = comparator.generate_response(model_name, image, \"What do you see in this image?\")\n",
    "                \n",
    "                print(f\"  Image {i+1}: {str(response)[:80]}...\")\n",
    "                model_results.append(response)\n",
    "                \n",
    "            except Exception as e:\n",
    "                error_msg = f\"Error: {str(e)[:50]}...\"\n",
    "                print(f\"  Image {i+1}: {error_msg}\")\n",
    "                model_results.append(error_msg)\n",
    "        \n",
    "        results[model_name] = model_results\n",
    "    \n",
    "    return results\n",
    "\n",
    "# Run basic functionality test\n",
    "if comparator and loaded_models:\n",
    "    basic_results = test_basic_functionality(loaded_models, test_data)\n",
    "    print(f\"\\n✅ Basic functionality test completed for {len(basic_results)} models\")\n",
    "else:\n",
    "    print(\"⚠️ Cannot run basic functionality test - models not available\")\n",
    "    basic_results = {}"
   ]
  },
  {
   "cell_type": "code",
   "execution_count": 12,
   "metadata": {},
   "outputs": [
    {
     "name": "stdout",
     "output_type": "stream",
     "text": [
      "🛡️ VLM Robustness Analysis\n",
      "==================================================\n",
      "\n",
      "🔍 Testing CLIP robustness:\n",
      "  Testing typographic attack...\n",
      "    Robustness Score: 0.500\n",
      "  Testing adversarial_patch attack...\n",
      "    Robustness Score: 0.500\n",
      "  Testing corruption attack...\n",
      "    Robustness Score: 0.500\n",
      "  Average Robustness: 0.500\n",
      "\n",
      "🔍 Testing INSTRUCTBLIP robustness:\n",
      "  Testing typographic attack...\n",
      "    Robustness Score: 1.000\n",
      "  Testing adversarial_patch attack...\n",
      "    Robustness Score: 1.000\n",
      "  Testing corruption attack...\n",
      "    Robustness Score: 0.385\n",
      "  Average Robustness: 0.795\n",
      "✅ Robustness analysis completed\n"
     ]
    }
   ],
   "source": [
    "# =============================================================================\n",
    "# CELL 12: Robustness Analysis\n",
    "# =============================================================================\n",
    "\n",
    "def test_robustness(models, test_image, test_prompt):\n",
    "    \"\"\"Test robustness against different attack types\"\"\"\n",
    "    attack_types = [\"typographic\", \"adversarial_patch\", \"corruption\"]\n",
    "    robustness_results = {}\n",
    "    \n",
    "    print(\"🛡️ VLM Robustness Analysis\")\n",
    "    print(\"=\" * 50)\n",
    "    \n",
    "    for model_name in models:\n",
    "        if model_name not in comparator.models:\n",
    "            continue\n",
    "        \n",
    "        print(f\"\\n🔍 Testing {model_name.upper()} robustness:\")\n",
    "        model_robustness = {}\n",
    "        \n",
    "        for attack in attack_types:\n",
    "            try:\n",
    "                print(f\"  Testing {attack} attack...\")\n",
    "                result = comparator.evaluate_robustness(\n",
    "                    model_name, test_image, test_prompt, attack\n",
    "                )\n",
    "                \n",
    "                score = result.get(\"robustness_score\", 0.0)\n",
    "                model_robustness[attack] = score\n",
    "                print(f\"    Robustness Score: {score:.3f}\")\n",
    "                \n",
    "            except Exception as e:\n",
    "                print(f\"    Error: {str(e)[:50]}...\")\n",
    "                model_robustness[attack] = 0.0\n",
    "        \n",
    "        # Calculate average robustness\n",
    "        avg_robustness = np.mean(list(model_robustness.values()))\n",
    "        model_robustness['average'] = avg_robustness\n",
    "        print(f\"  Average Robustness: {avg_robustness:.3f}\")\n",
    "        \n",
    "        robustness_results[model_name] = model_robustness\n",
    "    \n",
    "    return robustness_results\n",
    "\n",
    "# Run robustness test\n",
    "if comparator and loaded_models and test_data:\n",
    "    test_image, test_prompt = test_data[0]  # Use first test image\n",
    "    robustness_results = test_robustness(loaded_models, test_image, test_prompt)\n",
    "    print(\"✅ Robustness analysis completed\")\n",
    "else:\n",
    "    print(\"⚠️ Cannot run robustness test - requirements not met\")\n",
    "    robustness_results = {}"
   ]
  },
  {
   "cell_type": "code",
   "execution_count": 13,
   "metadata": {},
   "outputs": [
    {
     "data": {
      "image/png": "[encoded data removed]",
      "text/plain": [
       "<Figure size 1000x600 with 1 Axes>"
      ]
     },
     "metadata": {},
     "output_type": "display_data"
    }
   ],
   "source": [
    "# =============================================================================\n",
    "# CELL 13: Visualize Robustness Results\n",
    "# =============================================================================\n",
    "\n",
    "if robustness_results:\n",
    "    models = list(robustness_results.keys())\n",
    "    attacks = ['typographic', 'adversarial_patch', 'corruption']\n",
    "    \n",
    "    fig, ax = plt.subplots(figsize=(10, 6))\n",
    "    x = np.arange(len(models))\n",
    "    width = 0.25\n",
    "    \n",
    "    for i, attack in enumerate(attacks):\n",
    "        scores = [robustness_results[model][attack] for model in models]\n",
    "        ax.bar(x + i*width, scores, width, label=attack.replace('_', ' ').title())\n",
    "    \n",
    "    ax.set_xlabel('VLM Models')\n",
    "    ax.set_ylabel('Robustness Score')\n",
    "    ax.set_title('VLM Robustness Comparison')\n",
    "    ax.set_xticks(x + width)\n",
    "    ax.set_xticklabels([m.upper() for m in models])\n",
    "    ax.legend()\n",
    "    ax.grid(True, alpha=0.3)\n",
    "    \n",
    "    plt.tight_layout()\n",
    "    plt.show()\n",
    "else:\n",
    "    print(\"⚠️ No robustness results to visualize\")"
   ]
  },
  {
   "cell_type": "code",
   "execution_count": 14,
   "metadata": {},
   "outputs": [
    {
     "name": "stdout",
     "output_type": "stream",
     "text": [
      "⚡ Efficiency Benchmarking\n",
      "==================================================\n",
      "\n",
      "⏱️ Benchmarking CLIP:\n",
      "  Image 1: 0.071s\n",
      "  Image 2: 0.061s\n",
      "  Image 3: 0.047s\n",
      "  Average Time: 0.059s\n",
      "  Memory Usage: 2GB\n",
      "  Throughput: 16.84 imgs/sec\n",
      "\n",
      "⏱️ Benchmarking INSTRUCTBLIP:\n",
      "  Image 1: 0.207s\n",
      "  Image 2: 0.190s\n",
      "  Image 3: 0.355s\n",
      "  Average Time: 0.251s\n",
      "  Memory Usage: 12GB\n",
      "  Throughput: 3.99 imgs/sec\n",
      "✅ Efficiency benchmarking completed\n"
     ]
    }
   ],
   "source": [
    "# =============================================================================\n",
    "# CELL 14: Efficiency Benchmarking\n",
    "# =============================================================================\n",
    "\n",
    "def benchmark_efficiency(models, test_data):\n",
    "    \"\"\"Benchmark inference speed and memory usage\"\"\"\n",
    "    efficiency_results = {}\n",
    "    \n",
    "    print(\"⚡ Efficiency Benchmarking\")\n",
    "    print(\"=\" * 50)\n",
    "    \n",
    "    for model_name in models:\n",
    "        if model_name not in comparator.models:\n",
    "            continue\n",
    "        \n",
    "        print(f\"\\n⏱️ Benchmarking {model_name.upper()}:\")\n",
    "        \n",
    "        # Measure inference time\n",
    "        times = []\n",
    "        for i, (image, prompt) in enumerate(test_data[:3]):  # Use subset for speed\n",
    "            start_time = time.time()\n",
    "            try:\n",
    "                _ = comparator.generate_response(model_name, image, prompt)\n",
    "                inference_time = time.time() - start_time\n",
    "                times.append(inference_time)\n",
    "                print(f\"  Image {i+1}: {inference_time:.3f}s\")\n",
    "            except Exception as e:\n",
    "                print(f\"  Image {i+1}: Error - {str(e)[:30]}...\")\n",
    "                times.append(float('inf'))\n",
    "        \n",
    "        avg_time = np.mean([t for t in times if t != float('inf')])\n",
    "        memory_usage = model_info[model_name][\"memory_gb\"] if model_name in model_info else 0\n",
    "        throughput = 1 / avg_time if avg_time > 0 else 0\n",
    "        \n",
    "        efficiency_results[model_name] = {\n",
    "            \"avg_inference_time\": avg_time,\n",
    "            \"memory_usage_gb\": memory_usage,\n",
    "            \"throughput_imgs_per_sec\": throughput\n",
    "        }\n",
    "        \n",
    "        print(f\"  Average Time: {avg_time:.3f}s\")\n",
    "        print(f\"  Memory Usage: {memory_usage}GB\")\n",
    "        print(f\"  Throughput: {throughput:.2f} imgs/sec\")\n",
    "    \n",
    "    return efficiency_results\n",
    "\n",
    "# Run efficiency benchmark\n",
    "if comparator and loaded_models:\n",
    "    efficiency_results = benchmark_efficiency(loaded_models, test_data)\n",
    "    print(\"✅ Efficiency benchmarking completed\")\n",
    "else:\n",
    "    print(\"⚠️ Cannot run efficiency benchmark - models not loaded\")\n",
    "    efficiency_results = {}"
   ]
  },
  {
   "cell_type": "code",
   "execution_count": 15,
   "metadata": {},
   "outputs": [
    {
     "data": {
      "image/png": "[encoded data removed]",
      "text/plain": [
       "<Figure size 1500x500 with 3 Axes>"
      ]
     },
     "metadata": {},
     "output_type": "display_data"
    }
   ],
   "source": [
    "# =============================================================================\n",
    "# CELL 15: Visualize Efficiency Results\n",
    "# =============================================================================\n",
    "\n",
    "if efficiency_results:\n",
    "    models = list(efficiency_results.keys())\n",
    "    \n",
    "    fig, (ax1, ax2, ax3) = plt.subplots(1, 3, figsize=(15, 5))\n",
    "    \n",
    "    # Inference time\n",
    "    times = [efficiency_results[m][\"avg_inference_time\"] for m in models]\n",
    "    ax1.bar([m.upper() for m in models], times, color='skyblue')\n",
    "    ax1.set_ylabel('Inference Time (s)')\n",
    "    ax1.set_title('Average Inference Time')\n",
    "    ax1.tick_params(axis='x', rotation=45)\n",
    "    \n",
    "    # Memory usage\n",
    "    memory = [efficiency_results[m][\"memory_usage_gb\"] for m in models]\n",
    "    ax2.bar([m.upper() for m in models], memory, color='lightcoral')\n",
    "    ax2.set_ylabel('Memory Usage (GB)')\n",
    "    ax2.set_title('GPU Memory Usage')\n",
    "    ax2.tick_params(axis='x', rotation=45)\n",
    "    \n",
    "    # Throughput\n",
    "    throughput = [efficiency_results[m][\"throughput_imgs_per_sec\"] for m in models]\n",
    "    ax3.bar([m.upper() for m in models], throughput, color='lightgreen')\n",
    "    ax3.set_ylabel('Images per Second')\n",
    "    ax3.set_title('Inference Throughput')\n",
    "    ax3.tick_params(axis='x', rotation=45)\n",
    "    \n",
    "    plt.tight_layout()\n",
    "    plt.show()\n",
    "else:\n",
    "    print(\"⚠️ No efficiency results to visualize\")"
   ]
  },
  {
   "cell_type": "code",
   "execution_count": 16,
   "metadata": {},
   "outputs": [
    {
     "data": {
      "image/png": "[encoded data removed]",
      "text/plain": [
       "<Figure size 1500x500 with 3 Axes>"
      ]
     },
     "metadata": {},
     "output_type": "display_data"
    }
   ],
   "source": [
    "# =============================================================================\n",
    "# CELL 15: Visualize Efficiency Results\n",
    "# =============================================================================\n",
    "\n",
    "if efficiency_results:\n",
    "    models = list(efficiency_results.keys())\n",
    "    \n",
    "    fig, (ax1, ax2, ax3) = plt.subplots(1, 3, figsize=(15, 5))\n",
    "    \n",
    "    # Inference time\n",
    "    times = [efficiency_results[m][\"avg_inference_time\"] for m in models]\n",
    "    ax1.bar([m.upper() for m in models], times, color='skyblue')\n",
    "    ax1.set_ylabel('Inference Time (s)')\n",
    "    ax1.set_title('Average Inference Time')\n",
    "    ax1.tick_params(axis='x', rotation=45)\n",
    "    \n",
    "    # Memory usage\n",
    "    memory = [efficiency_results[m][\"memory_usage_gb\"] for m in models]\n",
    "    ax2.bar([m.upper() for m in models], memory, color='lightcoral')\n",
    "    ax2.set_ylabel('Memory Usage (GB)')\n",
    "    ax2.set_title('GPU Memory Usage')\n",
    "    ax2.tick_params(axis='x', rotation=45)\n",
    "    \n",
    "    # Throughput\n",
    "    throughput = [efficiency_results[m][\"throughput_imgs_per_sec\"] for m in models]\n",
    "    ax3.bar([m.upper() for m in models], throughput, color='lightgreen')\n",
    "    ax3.set_ylabel('Images per Second')\n",
    "    ax3.set_title('Inference Throughput')\n",
    "    ax3.tick_params(axis='x', rotation=45)\n",
    "    \n",
    "    plt.tight_layout()\n",
    "    plt.show()\n",
    "else:\n",
    "    print(\"⚠️ No efficiency results to visualize\")"
   ]
  },
  {
   "cell_type": "code",
   "execution_count": 17,
   "metadata": {},
   "outputs": [
    {
     "name": "stdout",
     "output_type": "stream",
     "text": [
      "🎯 Testing VLM Reward Functions\n",
      "==================================================\n",
      "\n",
      "🔍 Testing CLIP reward function:\n",
      "  Mean Score: 0.2218 ± 0.0238\n",
      "    'a cat sitting peacefully': 0.2006\n",
      "    'a friendly dog': 0.2079\n",
      "    'a bird flying': 0.2512\n",
      "    'a fish swimming': 0.2503\n",
      "    'a beautiful sunset': 0.1990\n",
      "\n",
      "🔍 Testing INSTRUCTBLIP reward function:\n"
     ]
    },
    {
     "name": "stderr",
     "output_type": "stream",
     "text": [
      "The model weights are not tied. Please use the `tie_weights` method before using the `infer_auto_device` function.\n"
     ]
    },
    {
     "data": {
      "application/vnd.jupyter.widget-view+json": {
       "model_id": "e39be8fef7ca4491b8987d5f740cb09a",
       "version_major": 2,
       "version_minor": 0
      },
      "text/plain": [
       "Loading checkpoint shards:   0%|          | 0/4 [00:00<?, ?it/s]"
      ]
     },
     "metadata": {},
     "output_type": "display_data"
    },
    {
     "name": "stderr",
     "output_type": "stream",
     "text": [
      "Some parameters are on the meta device because they were offloaded to the cpu.\n"
     ]
    },
    {
     "name": "stdout",
     "output_type": "stream",
     "text": [
      "  Mean Score: 1.0000 ± 0.0000\n",
      "    'a cat sitting peacefully': 1.0000\n",
      "    'a friendly dog': 1.0000\n",
      "    'a bird flying': 1.0000\n",
      "    'a fish swimming': 1.0000\n",
      "    'a beautiful sunset': 1.0000\n",
      "✅ Reward function testing completed\n"
     ]
    }
   ],
   "source": [
    "# =============================================================================\n",
    "# CELL 16: Test Reward Functions\n",
    "# =============================================================================\n",
    "\n",
    "def test_reward_functions(models, test_data):\n",
    "    \"\"\"Test different VLM reward functions\"\"\"\n",
    "    print(\"🎯 Testing VLM Reward Functions\")\n",
    "    print(\"=\" * 50)\n",
    "    \n",
    "    # Prepare test data for reward functions\n",
    "    test_images = np.array([np.array(img) for img, _ in test_data])\n",
    "    test_prompts = [prompt for _, prompt in test_data]\n",
    "    \n",
    "    reward_results = {}\n",
    "    \n",
    "    for model_name in models:\n",
    "        try:\n",
    "            print(f\"\\n🔍 Testing {model_name.upper()} reward function:\")\n",
    "            \n",
    "            # Select appropriate reward function\n",
    "            if model_name == \"clip\":\n",
    "                reward_fn = rewards.clip_similarity()\n",
    "            elif model_name == \"blip2\":\n",
    "                reward_fn = rewards.blip2_alignment()\n",
    "            elif model_name == \"instructblip\":\n",
    "                reward_fn = rewards.instructblip_reward()\n",
    "            else:\n",
    "                print(f\"  No reward function available for {model_name}\")\n",
    "                continue\n",
    "            \n",
    "            # Compute rewards\n",
    "            scores, info = reward_fn(\n",
    "                test_images, \n",
    "                test_prompts, \n",
    "                [{}] * len(test_prompts)\n",
    "            )\n",
    "            \n",
    "            reward_results[model_name] = {\n",
    "                \"scores\": scores.tolist(),\n",
    "                \"prompts\": test_prompts,\n",
    "                \"info\": info,\n",
    "                \"mean_score\": float(np.mean(scores)),\n",
    "                \"std_score\": float(np.std(scores))\n",
    "            }\n",
    "            \n",
    "            print(f\"  Mean Score: {np.mean(scores):.4f} ± {np.std(scores):.4f}\")\n",
    "            for prompt, score in zip(test_prompts, scores):\n",
    "                print(f\"    '{prompt}': {score:.4f}\")\n",
    "                \n",
    "        except Exception as e:\n",
    "            print(f\"  Error testing {model_name}: {str(e)[:50]}...\")\n",
    "    \n",
    "    return reward_results\n",
    "\n",
    "# Test reward functions\n",
    "if loaded_models and test_data:\n",
    "    reward_results = test_reward_functions(loaded_models, test_data)\n",
    "    print(\"✅ Reward function testing completed\")\n",
    "else:\n",
    "    print(\"⚠️ Cannot test reward functions - requirements not met\")\n",
    "    reward_results = {}"
   ]
  },
  {
   "cell_type": "code",
   "execution_count": 18,
   "metadata": {},
   "outputs": [
    {
     "data": {
      "image/png": "[encoded data removed]",
      "text/plain": [
       "<Figure size 1200x600 with 1 Axes>"
      ]
     },
     "metadata": {},
     "output_type": "display_data"
    }
   ],
   "source": [
    "# =============================================================================\n",
    "# CELL 17: Visualize Reward Scores\n",
    "# =============================================================================\n",
    "\n",
    "if reward_results and test_data:\n",
    "    fig, ax = plt.subplots(figsize=(12, 6))\n",
    "    \n",
    "    models = list(reward_results.keys())\n",
    "    prompts = [prompt for _, prompt in test_data]\n",
    "    \n",
    "    x = np.arange(len(prompts))\n",
    "    width = 0.8 / len(models) if models else 1\n",
    "    \n",
    "    for i, model in enumerate(models):\n",
    "        scores = reward_results[model][\"scores\"]\n",
    "        ax.bar(x + i*width, scores, width, label=model.upper())\n",
    "    \n",
    "    ax.set_xlabel('Test Prompts')\n",
    "    ax.set_ylabel('Reward Score')\n",
    "    ax.set_title('VLM Reward Function Comparison')\n",
    "    ax.set_xticks(x + width * (len(models)-1) / 2)\n",
    "    ax.set_xticklabels([p[:20] + '...' if len(p) > 20 else p for p in prompts], rotation=45)\n",
    "    ax.legend()\n",
    "    ax.grid(True, alpha=0.3)\n",
    "    \n",
    "    plt.tight_layout()\n",
    "    plt.show()\n",
    "else:\n",
    "    print(\"⚠️ No reward results to visualize\")"
   ]
  },
  {
   "cell_type": "code",
   "execution_count": 19,
   "metadata": {},
   "outputs": [
    {
     "name": "stdout",
     "output_type": "stream",
     "text": [
      "📄 Complete report saved to: vlm_comparison_results\\vlm_comparison_report_1748909259.json\n",
      "\n",
      "📈 EXPERIMENT SUMMARY\n",
      "==================================================\n",
      "Models Successfully Tested: 2\n",
      "Test Images: 5\n",
      "Experiments Completed: 0\n",
      "\n",
      "🎉 VLM Comparison Demo Complete!\n"
     ]
    }
   ],
   "source": [
    "# =============================================================================\n",
    "# CELL 18: Generate Final Report\n",
    "# =============================================================================\n",
    "\n",
    "def generate_final_report():\n",
    "    \"\"\"Generate a comprehensive report of all experiments\"\"\"\n",
    "    \n",
    "    report = {\n",
    "        \"experiment_info\": {\n",
    "            \"models_tested\": loaded_models,\n",
    "            \"test_images_count\": len(test_data),\n",
    "            \"timestamp\": time.strftime(\"%Y-%m-%d %H:%M:%S\")\n",
    "        },\n",
    "        \"basic_functionality\": basic_results if 'basic_results' in locals() else {},\n",
    "        \"robustness_analysis\": robustness_results if 'robustness_results' in locals() else {},\n",
    "        \"efficiency_benchmark\": efficiency_results if 'efficiency_results' in locals() else {},\n",
    "        \"reward_functions\": reward_results if 'reward_results' in locals() else {}\n",
    "    }\n",
    "    \n",
    "    # Save to file\n",
    "    output_dir = Path(\"./vlm_comparison_results\")\n",
    "    output_dir.mkdir(exist_ok=True)\n",
    "    \n",
    "    report_file = output_dir / f\"vlm_comparison_report_{int(time.time())}.json\"\n",
    "    with open(report_file, 'w') as f:\n",
    "        json.dump(report, f, indent=2, default=str)\n",
    "    \n",
    "    print(f\"📄 Complete report saved to: {report_file}\")\n",
    "    \n",
    "    # Print summary\n",
    "    print(\"\\n📈 EXPERIMENT SUMMARY\")\n",
    "    print(\"=\" * 50)\n",
    "    print(f\"Models Successfully Tested: {len(loaded_models)}\")\n",
    "    print(f\"Test Images: {len(test_data)}\")\n",
    "    print(f\"Experiments Completed: {len([k for k, v in report.items() if v and k != 'experiment_info'])}\")\n",
    "    \n",
    "    return report\n",
    "\n",
    "# Generate final report\n",
    "final_report = generate_final_report()\n",
    "print(\"\\n🎉 VLM Comparison Demo Complete!\")"
   ]
  }
 ],
 "metadata": {
  "kernelspec": {
   "display_name": "ddpo-vlm",
   "language": "python",
   "name": "python3"
  },
  "language_info": {
   "codemirror_mode": {
    "name": "ipython",
    "version": 3
   },
   "file_extension": ".py",
   "mimetype": "text/x-python",
   "name": "python",
   "nbconvert_exporter": "python",
   "pygments_lexer": "ipython3",
   "version": "3.10.17"
  }
 },
 "nbformat": 4,
 "nbformat_minor": 2
}
